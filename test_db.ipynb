{
 "cells": [
  {
   "cell_type": "code",
   "execution_count": 54,
   "metadata": {},
   "outputs": [
    {
     "name": "stderr",
     "output_type": "stream",
     "text": [
      "[nltk_data] Downloading package punkt to /home/zq/nltk_data...\n",
      "[nltk_data]   Package punkt is already up-to-date!\n"
     ]
    }
   ],
   "source": [
    "import sqlite3\n",
    "import pandas as pd\n",
    "from datetime import datetime\n",
    "import creditcard\n",
    "from sklearn.metrics.pairwise import cosine_similarity\n",
    "\n",
    "from sentence_transformers import SentenceTransformer\n",
    "import nltk\n",
    "nltk.download('punkt')\n",
    "from nltk.tokenize import word_tokenize\n",
    "import re\n",
    "import creditcard"
   ]
  },
  {
   "cell_type": "code",
   "execution_count": 3,
   "metadata": {},
   "outputs": [],
   "source": [
    "# create the connection object\n",
    "conn = sqlite3.connect(\"new.db\")\n",
    "# get a cursor object used to execute SQL commands\n",
    "cursor = conn.cursor()\n"
   ]
  },
  {
   "cell_type": "code",
   "execution_count": 20,
   "metadata": {},
   "outputs": [],
   "source": [
    "def check_if_table_exists(table_name):\n",
    "    \"\"\"Returns True if table exists, otherwise creates table and returns True\"\"\"\n",
    "    check_query = f\"\"\"SELECT name FROM sqlite_master WHERE type='table' AND name='{table_name}';\"\"\"\n",
    "    cursor.execute(check_query)\n",
    "    result=cursor.fetchone()\n",
    "    if not result:\n",
    "        # Creating table\n",
    "        create_query = \"\"\" CREATE TABLE monthly_summary (\n",
    "                    datetime DATETIME NOT NULL,\n",
    "                    income_amt REAL NOT NULL,\n",
    "                    income_type VARCHAR(255) NOT NULL,\n",
    "                    expense_amt REAL NOT NULL,\n",
    "                    expense_type VARCHAR(255) NOT NULL,\n",
    "                    comment VARCHAR(255)\n",
    "                ); \"\"\"\n",
    "\n",
    "        cursor.execute(create_query)\n",
    "        return True\n",
    "    return result"
   ]
  },
  {
   "cell_type": "code",
   "execution_count": 21,
   "metadata": {},
   "outputs": [
    {
     "data": {
      "text/plain": [
       "('monthly_summary',)"
      ]
     },
     "execution_count": 21,
     "metadata": {},
     "output_type": "execute_result"
    }
   ],
   "source": [
    "check_if_table_exists(\"monthly_summary\")"
   ]
  },
  {
   "cell_type": "code",
   "execution_count": 27,
   "metadata": {},
   "outputs": [],
   "source": [
    "df = pd.DataFrame(columns = ['datetime', 'income_amt', 'income_type', 'expense_amt', 'expense_type', 'comment'])"
   ]
  },
  {
   "cell_type": "code",
   "execution_count": 28,
   "metadata": {},
   "outputs": [],
   "source": [
    "df.loc[len(df)] = [datetime.now(), 100, 'salary', 50, 'food', 'comment']"
   ]
  },
  {
   "cell_type": "code",
   "execution_count": 33,
   "metadata": {},
   "outputs": [],
   "source": [
    "df.loc[len(df)] = [datetime.now(), 120, 'salary', 50, 'groceries', 'etcccc']"
   ]
  },
  {
   "cell_type": "code",
   "execution_count": 34,
   "metadata": {},
   "outputs": [
    {
     "data": {
      "text/html": [
       "<div>\n",
       "<style scoped>\n",
       "    .dataframe tbody tr th:only-of-type {\n",
       "        vertical-align: middle;\n",
       "    }\n",
       "\n",
       "    .dataframe tbody tr th {\n",
       "        vertical-align: top;\n",
       "    }\n",
       "\n",
       "    .dataframe thead th {\n",
       "        text-align: right;\n",
       "    }\n",
       "</style>\n",
       "<table border=\"1\" class=\"dataframe\">\n",
       "  <thead>\n",
       "    <tr style=\"text-align: right;\">\n",
       "      <th></th>\n",
       "      <th>datetime</th>\n",
       "      <th>income_amt</th>\n",
       "      <th>income_type</th>\n",
       "      <th>expense_amt</th>\n",
       "      <th>expense_type</th>\n",
       "      <th>comment</th>\n",
       "    </tr>\n",
       "  </thead>\n",
       "  <tbody>\n",
       "    <tr>\n",
       "      <th>0</th>\n",
       "      <td>2023-04-02 10:48:53.293997</td>\n",
       "      <td>100</td>\n",
       "      <td>salary</td>\n",
       "      <td>50</td>\n",
       "      <td>food</td>\n",
       "      <td>comment</td>\n",
       "    </tr>\n",
       "    <tr>\n",
       "      <th>1</th>\n",
       "      <td>2023-04-02 11:19:21.175542</td>\n",
       "      <td>120</td>\n",
       "      <td>salary</td>\n",
       "      <td>50</td>\n",
       "      <td>groceries</td>\n",
       "      <td>etcccc</td>\n",
       "    </tr>\n",
       "  </tbody>\n",
       "</table>\n",
       "</div>"
      ],
      "text/plain": [
       "                    datetime  income_amt income_type  expense_amt  \\\n",
       "0 2023-04-02 10:48:53.293997         100      salary           50   \n",
       "1 2023-04-02 11:19:21.175542         120      salary           50   \n",
       "\n",
       "  expense_type  comment  \n",
       "0         food  comment  \n",
       "1    groceries   etcccc  "
      ]
     },
     "execution_count": 34,
     "metadata": {},
     "output_type": "execute_result"
    }
   ],
   "source": [
    "df"
   ]
  },
  {
   "cell_type": "code",
   "execution_count": 35,
   "metadata": {},
   "outputs": [
    {
     "data": {
      "text/plain": [
       "2"
      ]
     },
     "execution_count": 35,
     "metadata": {},
     "output_type": "execute_result"
    }
   ],
   "source": [
    "df.to_sql('monthly_summary', conn, if_exists='append', index=False)"
   ]
  },
  {
   "cell_type": "code",
   "execution_count": 32,
   "metadata": {},
   "outputs": [],
   "source": [
    "from database import get_period"
   ]
  },
  {
   "cell_type": "code",
   "execution_count": null,
   "metadata": {},
   "outputs": [],
   "source": [
    "get_period"
   ]
  },
  {
   "cell_type": "code",
   "execution_count": null,
   "metadata": {},
   "outputs": [],
   "source": [
    "def insert_period(period, incomes, expenses, comment):\n",
    "    \"\"\"Returns the report on a successful creation, otherwise raises an error\"\"\"\n",
    "    \n",
    "    return cursor.executemany('INSERT INTO monthly_summary VALUES(?, ?, ?)', [period, incomes, expenses, comment])\n",
    "    # return db.put({\"key\": period, \"incomes\": incomes, \"expenses\": expenses, \"comment\": comment})\n"
   ]
  }
 ],
 "metadata": {
  "kernelspec": {
   "display_name": "Python 3",
   "language": "python",
   "name": "python3"
  },
  "language_info": {
   "codemirror_mode": {
    "name": "ipython",
    "version": 3
   },
   "file_extension": ".py",
   "mimetype": "text/x-python",
   "name": "python",
   "nbconvert_exporter": "python",
   "pygments_lexer": "ipython3",
   "version": "3.10.10"
  },
  "orig_nbformat": 4
 },
 "nbformat": 4,
 "nbformat_minor": 2
}
