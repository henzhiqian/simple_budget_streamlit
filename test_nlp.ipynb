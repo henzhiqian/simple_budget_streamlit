{
 "cells": [
  {
   "cell_type": "code",
   "execution_count": 7,
   "metadata": {},
   "outputs": [
    {
     "name": "stderr",
     "output_type": "stream",
     "text": [
      "[nltk_data] Downloading package punkt to /home/zq/nltk_data...\n",
      "[nltk_data]   Package punkt is already up-to-date!\n"
     ]
    }
   ],
   "source": [
    "import sqlite3\n",
    "import pandas as pd\n",
    "from datetime import datetime\n",
    "import creditcard\n",
    "from sklearn.metrics.pairwise import cosine_similarity\n",
    "\n",
    "from sentence_transformers import SentenceTransformer\n",
    "import nltk\n",
    "nltk.download('punkt')\n",
    "from nltk.tokenize import word_tokenize\n",
    "import re\n",
    "import creditcard\n",
    "import numpy as np"
   ]
  },
  {
   "cell_type": "code",
   "execution_count": 2,
   "metadata": {},
   "outputs": [
    {
     "name": "stderr",
     "output_type": "stream",
     "text": [
      "/home/zq/Desktop/code/.conda/lib/python3.10/site-packages/camelot/parsers/stream.py:365: UserWarning: No tables found in table area 1\n",
      "  warnings.warn(f\"No tables found in table area {table_idx + 1}\")\n",
      "/home/zq/Desktop/code/simple_budget_streamlit/creditcard.py:46: FutureWarning: The frame.append method is deprecated and will be removed from pandas in a future version. Use pandas.concat instead.\n",
      "  res = res.append(df)\n"
     ]
    }
   ],
   "source": [
    "pdf_path = r\"/home/zq/Downloads/Citibank_CreditCard_7099stmt_19082022_1680435958485.pdf\"\n",
    "df = creditcard.read_creditcard(pdf_path)"
   ]
  },
  {
   "cell_type": "code",
   "execution_count": 3,
   "metadata": {},
   "outputs": [
    {
     "data": {
      "text/html": [
       "<div>\n",
       "<style scoped>\n",
       "    .dataframe tbody tr th:only-of-type {\n",
       "        vertical-align: middle;\n",
       "    }\n",
       "\n",
       "    .dataframe tbody tr th {\n",
       "        vertical-align: top;\n",
       "    }\n",
       "\n",
       "    .dataframe thead th {\n",
       "        text-align: right;\n",
       "    }\n",
       "</style>\n",
       "<table border=\"1\" class=\"dataframe\">\n",
       "  <thead>\n",
       "    <tr style=\"text-align: right;\">\n",
       "      <th>2</th>\n",
       "      <th>DATE</th>\n",
       "      <th>DESCRIPTION</th>\n",
       "      <th>AMOUNT (SGD)</th>\n",
       "    </tr>\n",
       "  </thead>\n",
       "  <tbody>\n",
       "    <tr>\n",
       "      <th>7</th>\n",
       "      <td>17 JUL</td>\n",
       "      <td>NTUC FairPrice App Pay</td>\n",
       "      <td>111.55</td>\n",
       "    </tr>\n",
       "    <tr>\n",
       "      <th>8</th>\n",
       "      <td>19 JUL</td>\n",
       "      <td>NTUC FairPrice App Pay</td>\n",
       "      <td>2.80</td>\n",
       "    </tr>\n",
       "    <tr>\n",
       "      <th>9</th>\n",
       "      <td>20 JUL</td>\n",
       "      <td>NTUC FairPrice App Pay</td>\n",
       "      <td>5.40</td>\n",
       "    </tr>\n",
       "    <tr>\n",
       "      <th>10</th>\n",
       "      <td>25 JUL</td>\n",
       "      <td>GV ONLINE</td>\n",
       "      <td>-29.00</td>\n",
       "    </tr>\n",
       "    <tr>\n",
       "      <th>11</th>\n",
       "      <td>25 JUL</td>\n",
       "      <td>Grab* 1658731794000000</td>\n",
       "      <td>100.00</td>\n",
       "    </tr>\n",
       "    <tr>\n",
       "      <th>12</th>\n",
       "      <td>25 JUL</td>\n",
       "      <td>OG ORCHARD POINT</td>\n",
       "      <td>383.81</td>\n",
       "    </tr>\n",
       "    <tr>\n",
       "      <th>13</th>\n",
       "      <td>30 JUL</td>\n",
       "      <td>Spotify P1CD88ABE6\\nStockholm\\nSE</td>\n",
       "      <td>9.90</td>\n",
       "    </tr>\n",
       "    <tr>\n",
       "      <th>14</th>\n",
       "      <td>30 JUL</td>\n",
       "      <td>SAND&amp;SANDALS RESORT &amp;\\nKOTA TINGGI MY</td>\n",
       "      <td>305.87</td>\n",
       "    </tr>\n",
       "    <tr>\n",
       "      <th>16</th>\n",
       "      <td>31 JUL</td>\n",
       "      <td>DESARUCOAST-ADVENTUREP\\nBDR PENAWAR MY</td>\n",
       "      <td>113.94</td>\n",
       "    </tr>\n",
       "    <tr>\n",
       "      <th>18</th>\n",
       "      <td>31 JUL</td>\n",
       "      <td>DESARUCOAST-ADVENTUREP\\nBDR PENAWAR MY</td>\n",
       "      <td>8.05</td>\n",
       "    </tr>\n",
       "    <tr>\n",
       "      <th>20</th>\n",
       "      <td>31 JUL</td>\n",
       "      <td>DESARUCOAST-ADVENTUREP\\nBDR PENAWAR MY</td>\n",
       "      <td>12.84</td>\n",
       "    </tr>\n",
       "    <tr>\n",
       "      <th>22</th>\n",
       "      <td>31 JUL</td>\n",
       "      <td>DESARUCOAST-ADVENTUREP\\nBDR PENAWAR MY</td>\n",
       "      <td>12.55</td>\n",
       "    </tr>\n",
       "    <tr>\n",
       "      <th>24</th>\n",
       "      <td>01 AUG</td>\n",
       "      <td>EzypaySGD*Anytime Fitn</td>\n",
       "      <td>89.25</td>\n",
       "    </tr>\n",
       "    <tr>\n",
       "      <th>25</th>\n",
       "      <td>01 AUG</td>\n",
       "      <td>EzypaySGD*Anytime Fitn</td>\n",
       "      <td>94.16</td>\n",
       "    </tr>\n",
       "    <tr>\n",
       "      <th>26</th>\n",
       "      <td>01 AUG</td>\n",
       "      <td>GHL*THE BAG-AEON TEBRA\\nJOHOR BAHRU MY</td>\n",
       "      <td>37.67</td>\n",
       "    </tr>\n",
       "    <tr>\n",
       "      <th>28</th>\n",
       "      <td>01 AUG</td>\n",
       "      <td>CCY CONVERSION FEE\\nSGD\\n9.90</td>\n",
       "      <td>0.09</td>\n",
       "    </tr>\n",
       "    <tr>\n",
       "      <th>29</th>\n",
       "      <td>03 AUG</td>\n",
       "      <td>CIRCLES.LIFE</td>\n",
       "      <td>70.00</td>\n",
       "    </tr>\n",
       "    <tr>\n",
       "      <th>30</th>\n",
       "      <td>04 AUG</td>\n",
       "      <td>Grab* 1659612159000000</td>\n",
       "      <td>100.00</td>\n",
       "    </tr>\n",
       "    <tr>\n",
       "      <th>31</th>\n",
       "      <td>14 AUG</td>\n",
       "      <td>NETFLIX.COM</td>\n",
       "      <td>21.98</td>\n",
       "    </tr>\n",
       "  </tbody>\n",
       "</table>\n",
       "</div>"
      ],
      "text/plain": [
       "2     DATE                             DESCRIPTION  AMOUNT (SGD)\n",
       "7   17 JUL                  NTUC FairPrice App Pay        111.55\n",
       "8   19 JUL                  NTUC FairPrice App Pay          2.80\n",
       "9   20 JUL                  NTUC FairPrice App Pay          5.40\n",
       "10  25 JUL                               GV ONLINE        -29.00\n",
       "11  25 JUL                  Grab* 1658731794000000        100.00\n",
       "12  25 JUL                        OG ORCHARD POINT        383.81\n",
       "13  30 JUL       Spotify P1CD88ABE6\\nStockholm\\nSE          9.90\n",
       "14  30 JUL   SAND&SANDALS RESORT &\\nKOTA TINGGI MY        305.87\n",
       "16  31 JUL  DESARUCOAST-ADVENTUREP\\nBDR PENAWAR MY        113.94\n",
       "18  31 JUL  DESARUCOAST-ADVENTUREP\\nBDR PENAWAR MY          8.05\n",
       "20  31 JUL  DESARUCOAST-ADVENTUREP\\nBDR PENAWAR MY         12.84\n",
       "22  31 JUL  DESARUCOAST-ADVENTUREP\\nBDR PENAWAR MY         12.55\n",
       "24  01 AUG                  EzypaySGD*Anytime Fitn         89.25\n",
       "25  01 AUG                  EzypaySGD*Anytime Fitn         94.16\n",
       "26  01 AUG  GHL*THE BAG-AEON TEBRA\\nJOHOR BAHRU MY         37.67\n",
       "28  01 AUG           CCY CONVERSION FEE\\nSGD\\n9.90          0.09\n",
       "29  03 AUG                            CIRCLES.LIFE         70.00\n",
       "30  04 AUG                  Grab* 1659612159000000        100.00\n",
       "31  14 AUG                             NETFLIX.COM         21.98"
      ]
     },
     "execution_count": 3,
     "metadata": {},
     "output_type": "execute_result"
    }
   ],
   "source": [
    "df"
   ]
  },
  {
   "cell_type": "code",
   "execution_count": 4,
   "metadata": {},
   "outputs": [],
   "source": [
    "def clean_text_BERT(text):\n",
    "\n",
    "    # Convert words to lower case.\n",
    "    text = text.lower()\n",
    "\n",
    "    # Remove special characters and numbers. This also removes the dates \n",
    "    # which are not important in classifying expenses\n",
    "    text = re.sub(r'[^\\w\\s]|https?://\\S+|www\\.\\S+|https?:/\\S+|[^\\x00-\\x7F]+|\\d+', '', str(text).strip())\n",
    "  \n",
    "    # Tokenise \n",
    "    text_list = word_tokenize(text)\n",
    "    result = ' '.join(text_list)\n",
    "    return result"
   ]
  },
  {
   "cell_type": "code",
   "execution_count": 5,
   "metadata": {},
   "outputs": [],
   "source": [
    "text_raw = df['DESCRIPTION']\n",
    "text_BERT = text_raw.apply(lambda x: clean_text_BERT(x))"
   ]
  },
  {
   "cell_type": "code",
   "execution_count": 8,
   "metadata": {},
   "outputs": [
    {
     "data": {
      "application/vnd.jupyter.widget-view+json": {
       "model_id": "db3ac15eb18a4c7d94c4443a23490424",
       "version_major": 2,
       "version_minor": 0
      },
      "text/plain": [
       "Batches:   0%|          | 0/1 [00:00<?, ?it/s]"
      ]
     },
     "metadata": {},
     "output_type": "display_data"
    }
   ],
   "source": [
    "bert_input = text_BERT.tolist()\n",
    "model = SentenceTransformer('paraphrase-mpnet-base-v2') \n",
    "embeddings = model.encode(bert_input, show_progress_bar = True)\n",
    "embedding_BERT = np.array(embeddings)"
   ]
  },
  {
   "cell_type": "code",
   "execution_count": 10,
   "metadata": {},
   "outputs": [
    {
     "data": {
      "text/plain": [
       "(19, 768)"
      ]
     },
     "execution_count": 10,
     "metadata": {},
     "output_type": "execute_result"
    }
   ],
   "source": [
    "embedding_BERT.shape"
   ]
  },
  {
   "cell_type": "code",
   "execution_count": 6,
   "metadata": {},
   "outputs": [],
   "source": [
    "# from transformers import BertTokenizer, BertModel\n",
    "# tokenizer = BertTokenizer.from_pretrained('zanelim/singbert')\n",
    "# model = BertModel.from_pretrained(\"zanelim/singbert\")\n",
    "\n",
    "# encoded_input = tokenizer(text, return_tensors='pt')\n",
    "# text_output = model(**encoded_input)\n",
    "\n",
    "# encoded_input = tokenizer(label, return_tensors='pt')\n",
    "# label_output = model(**encoded_input)"
   ]
  },
  {
   "attachments": {},
   "cell_type": "markdown",
   "metadata": {},
   "source": [
    "### Idea 1: Compare desc directly to categories\n",
    "Don't think this will work well, span of text is too different\n",
    "\n",
    "### Idea 2: Group those that is most similar, then perform batch labelling\n",
    "Requires data, need to search for public datasources"
   ]
  },
  {
   "cell_type": "code",
   "execution_count": 12,
   "metadata": {},
   "outputs": [],
   "source": [
    "categories = ['Rent', 'Utilities', 'Travel', 'Electronics', 'Gym', 'Telco']"
   ]
  },
  {
   "cell_type": "code",
   "execution_count": null,
   "metadata": {},
   "outputs": [],
   "source": []
  },
  {
   "cell_type": "code",
   "execution_count": null,
   "metadata": {},
   "outputs": [],
   "source": []
  },
  {
   "cell_type": "code",
   "execution_count": null,
   "metadata": {},
   "outputs": [],
   "source": []
  },
  {
   "cell_type": "code",
   "execution_count": null,
   "metadata": {},
   "outputs": [],
   "source": []
  }
 ],
 "metadata": {
  "kernelspec": {
   "display_name": "Python 3",
   "language": "python",
   "name": "python3"
  },
  "language_info": {
   "codemirror_mode": {
    "name": "ipython",
    "version": 3
   },
   "file_extension": ".py",
   "mimetype": "text/x-python",
   "name": "python",
   "nbconvert_exporter": "python",
   "pygments_lexer": "ipython3",
   "version": "3.10.10"
  },
  "orig_nbformat": 4
 },
 "nbformat": 4,
 "nbformat_minor": 2
}
